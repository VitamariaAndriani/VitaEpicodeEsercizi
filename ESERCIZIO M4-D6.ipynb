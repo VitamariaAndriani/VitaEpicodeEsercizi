{
 "cells": [
  {
   "cell_type": "code",
   "execution_count": 17,
   "metadata": {},
   "outputs": [],
   "source": [
    "# ESERCIZO M4-D6"
   ]
  },
  {
   "cell_type": "code",
   "execution_count": 18,
   "metadata": {},
   "outputs": [
    {
     "data": {
      "text/plain": [
       "5"
      ]
     },
     "execution_count": 18,
     "metadata": {},
     "output_type": "execute_result"
    }
   ],
   "source": [
    "# ESRCIZIO 1\n",
    "\"\"\"Abbiamo una lista di liste. \n",
    "# Che tipo di struttura dati o matematica potrebbe rappresentare? \n",
    "Notate che tutte le liste \"interne\" sono della stessa dimensione.\n",
    "# Come facciamo per accedere ad un elemento in particolare? \"\"\"\n",
    "\n",
    "mat = [[0,1,2,3,4],\n",
    "      [5,6,7,8,9],\n",
    "      [10,11,12,13,14]]\n",
    "#La variabile mat rappresenta una matrice\n",
    "\n",
    "\"\"\" Per accedere a un elemento specifico in questa matrice, \n",
    "bisogna indicare l'indice della riga e l'indice della colonna come ad Esempio:\"\"\"\n",
    "\n",
    "mat[1][0]\n",
    "# in questo caso  ho richiamato il valore 10 che si trova nella lista alla posizione \"0\" della pozione numro \"1\""
   ]
  },
  {
   "cell_type": "code",
   "execution_count": 19,
   "metadata": {},
   "outputs": [
    {
     "name": "stdout",
     "output_type": "stream",
     "text": [
      "7\n"
     ]
    }
   ],
   "source": [
    "# ESERCIZIO 2\n",
    "\"\"\" Trasformiamo la lista dell'esercizio precedente in un array NumPy:\n",
    "mat = np.array(mat\n",
    "# Come facciamo per accedere ai singoli elementi? \"\"\"\n",
    "\n",
    "# Trasformiamo la lista in un array NumPy\n",
    "\n",
    "import numpy as np\n",
    "mat = np.array([\n",
    "    [0, 1, 2, 3, 4],\n",
    "    [5, 6, 7, 8, 9],\n",
    "    [10, 11, 12, 13, 14]\n",
    "])\n",
    "\n",
    "# Si può accedere all'elemento nella seconda riga e terza colonna in questo modo:\n",
    "elemento = mat[1, 2]\n",
    "print(elemento)"
   ]
  },
  {
   "cell_type": "code",
   "execution_count": 20,
   "metadata": {},
   "outputs": [
    {
     "name": "stdout",
     "output_type": "stream",
     "text": [
      "[ 0  1  2  3  4  5  6  7  8  9 10 11 12 13 14 15 16 17 18 19 20 21 22 23\n",
      " 24 25 26]\n",
      "(3, 3, 3)\n",
      "[[[ 0  1  2]\n",
      "  [ 3  4  5]\n",
      "  [ 6  7  8]]\n",
      "\n",
      " [[ 9 10 11]\n",
      "  [12 13 14]\n",
      "  [15 16 17]]\n",
      "\n",
      " [[18 19 20]\n",
      "  [21 22 23]\n",
      "  [24 25 26]]]\n"
     ]
    },
    {
     "data": {
      "text/plain": [
       "11"
      ]
     },
     "execution_count": 20,
     "metadata": {},
     "output_type": "execute_result"
    }
   ],
   "source": [
    "# ESERCIZIO 3\n",
    "\"\"\"Abbiamo il seguente array NumPy:\n",
    "linear_data = np.array([x for x in range(27)])\n",
    "Lo ridimensioniamo mediante il metodo .reshape():\n",
    "reshaped_data = linear_data.reshape((3, 3, 3))\n",
    "# Quante dimensioni ha il nuovo array?\n",
    "# Come facciamo per accedere ai singoli elementi? \"\"\"\n",
    "\n",
    "# Abbiamo il seguente array NumPy.\n",
    "import numpy as np\n",
    "linear_data = np.array([x for x in range(27)])\n",
    "# Lo ridimensioniamo tramite il metodo .reshape().\n",
    "reshaped_data = linear_data.reshape(3,3,3)\n",
    "#Quante dimensioni ha il nuovo array?\n",
    "print(linear_data)\n",
    "print(reshaped_data.shape)\n",
    "#Come facciamo per accedere ai singoli elementi?\n",
    "print(reshaped_data)\n",
    "#Nome variabile e parentesi quadre con virgole per indicare le posizioni dell'elemento che si vuole richiamare\n",
    "reshaped_data[1,0,2]"
   ]
  },
  {
   "cell_type": "code",
   "execution_count": 21,
   "metadata": {},
   "outputs": [
    {
     "name": "stdout",
     "output_type": "stream",
     "text": [
      "UL : 26\n",
      "UR : 30\n",
      "LL : 25\n",
      "RR : 19\n",
      "\n",
      "Lo store UR ha 30 clienti e lo store LL ha 25 clienti.\n",
      "Store con più di 25 clienti:\n",
      "UL ha 26 clienti.\n",
      "UR ha 30 clienti.\n",
      "La somma dei clienti è: 56\n"
     ]
    }
   ],
   "source": [
    "# ESERCIZIO 4: 1/3 - 2/3\n",
    "\"\"\"Abbiamo un territorio cittadino diviso in quattro quadranti; in ognuno di essi c'è \n",
    "uno store: UL UR\n",
    "           LL LR\n",
    "Vogliamo contare quanti clienti vengono serviti dai diversi store: creiamo una \n",
    "struttura dati adeguata con un array NumPy, dove il conteggio di ogni store \n",
    "parta da zero.\"\"\"\n",
    "\n",
    "\"\"\" Creiamo un ciclo di 100 iterazioni che riempia, a caso, uno dei quattro \n",
    "quadranti, simulando quindi diversi clienti serviti dai vari store.\n",
    "# Alla fine, che valore ha lo store UR? E lo store LL?\n",
    "# Quali store hanno avuto più di 25 clienti?\n",
    "# Quanti clienti hanno avuto di preciso questi store?\n",
    "# Qual è la loro somma? \"\"\"\n",
    "\n",
    "import numpy as np\n",
    "import random\n",
    "quadranti = np.array([\"UL\",\"UR\",\"LL\",\"RR\"])\n",
    "clienti = np.array([0,0,0,0])\n",
    "for x in range(100):\n",
    "    pos = random.randint(0,3)\n",
    "    clienti[pos] += 1\n",
    "for el in range(len(clienti)):\n",
    "    print(str(quadranti[el]) + \" : \" +str(clienti[el]))\n",
    "#Alla fine, che valore ha lo store UR? E lo store LL?\n",
    "print(\"\\nLo store \" + str(quadranti[1]) + \" ha \" + str(clienti[1]) +\n",
    "       \" clienti e lo store \" + str(quadranti[2]) + \" ha \" + str(clienti[2])+ \" clienti.\")\n",
    "\n",
    "#Quale store ja più di 25 clienti? Quanti clienti hanno avuto di preciso questi store?\n",
    "print(\"Store con più di 25 clienti:\")\n",
    "somma = 0\n",
    "for el in range(len(quadranti)): \n",
    "    if clienti[el] > 25 :\n",
    "        print(str(quadranti[el]) +  \" ha \" + str(clienti[el]) + \" clienti.\")\n",
    "        somma += clienti[el]\n",
    "print(\"La somma dei clienti è: \" + str(somma))    \n"
   ]
  },
  {
   "cell_type": "code",
   "execution_count": 22,
   "metadata": {},
   "outputs": [
    {
     "name": "stdout",
     "output_type": "stream",
     "text": [
      "\n",
      "Per questo anno la situazione è la seguente:\n",
      "UL : 18\n",
      "UC : 23\n",
      "UR : 22\n",
      "ML : 17\n",
      "MC : 22\n",
      "MR : 31\n",
      "LL : 22\n",
      "LC : 20\n",
      "LR : 25\n",
      "\n",
      "Per il prossimo anno la situazione attesa è la seguente:\n",
      "UL : 72\n",
      "UC : 92\n",
      "UR : 88\n",
      "ML : 68\n",
      "MC : 88\n",
      "MR : 124\n",
      "LL : 88\n",
      "LC : 80\n",
      "LR : 100\n"
     ]
    }
   ],
   "source": [
    "# ESERCIZIO 5: 3/3\n",
    "\"\"\" Ripetiamo la traccia precedente, ma stavolta abbiamo nove quadranti e 200 \n",
    "iterazioni: UL UC UR\n",
    "            ML MC MR\n",
    "            LL LC LR\n",
    "L'anno prossimo ci aspettiamo 4 volte tanto i valori appena ottenuti; simuliamo \n",
    "velocemente il tutto e stampiamo il risultato. \"\"\"\n",
    "\n",
    "\n",
    "# Ripetiamo la traccia precedente ma stavolta abbiamo nove quadranti e 200 iterazioni.\n",
    "import numpy as np\n",
    "import random\n",
    "quadranti = np.array([\"UL\",\"UC\",\"UR\",\"ML\",\"MC\",\"MR\",\"LL\",\"LC\",\"LR\"])\n",
    "clienti = np.array([0,0,0,0,0,0,0,0,0])\n",
    "for x in range(200):\n",
    "    pos = random.randint(0,8)\n",
    "    clienti[pos] += 1\n",
    "print(\"\\nPer questo anno la situazione è la seguente:\")\n",
    "for el in range(len(clienti)):\n",
    "    print(str(quadranti[el]) + \" : \" +str(clienti[el]))\n",
    "# L'anno prossimo ci aspettiamo 4 volte i valori appena ottenuti; simuliamo velocemente il tutto e stampiamo il risultato\n",
    "for el in range(len(clienti)):\n",
    "    clienti[el] *=4\n",
    "print(\"\\nPer il prossimo anno la situazione attesa è la seguente:\")\n",
    "for el in range(len(clienti)):\n",
    "    print(str(quadranti[el]) + \" : \" +str(clienti[el]))"
   ]
  },
  {
   "cell_type": "code",
   "execution_count": null,
   "metadata": {},
   "outputs": [],
   "source": [
    "# ESERCIZIO 6\n",
    "\"\"\"Chiediamo all'utente di inserire un numero, dividiamolo per 5 e poi stampiamo \n",
    "il risultato a video.\n",
    "Gestiamo correttamente le eccezioni nel caso l'utente immetta un input errato.\"\"\"\n",
    "\n",
    "while True:                                                                                                                 \n",
    "    print(\"Inserisci il numero da dividere per 5:\")\n",
    "    try:    \n",
    "        num = int(input())\n",
    "    except:print(\"Hai inserito un valore non valido: riprova.\")\n",
    "    else :\n",
    "        print(num/5)\n",
    "        break\n"
   ]
  },
  {
   "cell_type": "code",
   "execution_count": 2,
   "metadata": {},
   "outputs": [
    {
     "name": "stdout",
     "output_type": "stream",
     "text": [
      "I punti in cui posizionare i rivetti sono:  [ 0.          2.05357143  4.10714286  6.16071429  8.21428571 10.26785714\n",
      " 12.32142857 14.375      16.42857143 18.48214286 20.53571429 22.58928571\n",
      " 24.64285714 26.69642857 28.75      ]\n"
     ]
    }
   ],
   "source": [
    "# ESERCIZIO 7\n",
    "\"\"\" In una catena di montaggio abbiamo una struttura metallica di 28.75 cm di \n",
    "lunghezza; per assicurarne la stabilità, è necessario inserire 15 rivetti, dei quali \n",
    "uno all'inizio e uno alla fine, e tutti quanti separati dalla stessa distanza; come \n",
    "possiamo calcolare i punti esatti in cui inserire i rivetti tramite NumPy? \"\"\"\n",
    "\n",
    "import numpy as np\n",
    "lung_strutt = 28.75\n",
    "num_rivetti = 15\n",
    "punti_esatti = np.linspace(0,lung_strutt,num=num_rivetti)\n",
    "print(\"I punti in cui posizionare i rivetti sono: \" , punti_esatti)"
   ]
  },
  {
   "cell_type": "code",
   "execution_count": 23,
   "metadata": {},
   "outputs": [
    {
     "name": "stdout",
     "output_type": "stream",
     "text": [
      "   sepal.length  sepal.width  petal.length  petal.width variety\n",
      "0           5.1          3.5           1.4          0.2  Setosa\n",
      "1           4.9          3.0           1.4          0.2  Setosa\n",
      "2           4.7          3.2           1.3          0.2  Setosa\n",
      "3           4.6          3.1           1.5          0.2  Setosa\n",
      "4           5.0          3.6           1.4          0.2  Setosa\n"
     ]
    },
    {
     "data": {
      "text/plain": [
       "Index(['sepal.length', 'sepal.width', 'petal.length', 'petal.width',\n",
       "       'variety'],\n",
       "      dtype='object')"
      ]
     },
     "execution_count": 23,
     "metadata": {},
     "output_type": "execute_result"
    }
   ],
   "source": [
    "# ESERCIZIO 8\n",
    "\"\"\" Scarichiamo l'Iris dataset da qui: https://archive.ics.uci.edu/dataset/53/iris\n",
    "Troveremo un file .data, che è un CSV, e un file .names con i metadati; questa \n",
    "versione del dataset non ha i nomi di colonna.\n",
    "• Leggiamo il file e carichiamolo in un DataFrame mediante pd.read_csv()\n",
    "senza utilizzare altri parametri\n",
    "• Stampiamo le prime cinque righe \n",
    "• Stampiamo i nomi di colonna: sono corretti? \"\"\"\n",
    "\n",
    "import pandas as pd\n",
    "df=pd.read_csv(r\"C:/Users/VITA MARIA/Desktop/iris.csv\")\n",
    "# Stampiamo le prime 5 righe\n",
    "print(df.head())\n",
    "\n",
    "# Stampiamo i nomi delle colonne: sono corretti?\n",
    "df.columns #Ovviamente no"
   ]
  },
  {
   "cell_type": "code",
   "execution_count": 4,
   "metadata": {},
   "outputs": [
    {
     "data": {
      "text/html": [
       "<div>\n",
       "<style scoped>\n",
       "    .dataframe tbody tr th:only-of-type {\n",
       "        vertical-align: middle;\n",
       "    }\n",
       "\n",
       "    .dataframe tbody tr th {\n",
       "        vertical-align: top;\n",
       "    }\n",
       "\n",
       "    .dataframe thead th {\n",
       "        text-align: right;\n",
       "    }\n",
       "</style>\n",
       "<table border=\"1\" class=\"dataframe\">\n",
       "  <thead>\n",
       "    <tr style=\"text-align: right;\">\n",
       "      <th></th>\n",
       "      <th>sepal length in cm</th>\n",
       "      <th>sepal width in cm</th>\n",
       "      <th>petal length in cm</th>\n",
       "      <th>petal width in cm</th>\n",
       "      <th>class</th>\n",
       "    </tr>\n",
       "  </thead>\n",
       "  <tbody>\n",
       "    <tr>\n",
       "      <th>count</th>\n",
       "      <td>151</td>\n",
       "      <td>151</td>\n",
       "      <td>151</td>\n",
       "      <td>151</td>\n",
       "      <td>151</td>\n",
       "    </tr>\n",
       "    <tr>\n",
       "      <th>unique</th>\n",
       "      <td>36</td>\n",
       "      <td>24</td>\n",
       "      <td>44</td>\n",
       "      <td>23</td>\n",
       "      <td>4</td>\n",
       "    </tr>\n",
       "    <tr>\n",
       "      <th>top</th>\n",
       "      <td>5</td>\n",
       "      <td>3</td>\n",
       "      <td>1.5</td>\n",
       "      <td>.2</td>\n",
       "      <td>Setosa</td>\n",
       "    </tr>\n",
       "    <tr>\n",
       "      <th>freq</th>\n",
       "      <td>10</td>\n",
       "      <td>26</td>\n",
       "      <td>13</td>\n",
       "      <td>29</td>\n",
       "      <td>50</td>\n",
       "    </tr>\n",
       "  </tbody>\n",
       "</table>\n",
       "</div>"
      ],
      "text/plain": [
       "       sepal length in cm sepal width in cm petal length in cm  \\\n",
       "count                 151               151                151   \n",
       "unique                 36                24                 44   \n",
       "top                     5                 3                1.5   \n",
       "freq                   10                26                 13   \n",
       "\n",
       "       petal width in cm   class  \n",
       "count                151     151  \n",
       "unique                23       4  \n",
       "top                   .2  Setosa  \n",
       "freq                  29      50  "
      ]
     },
     "execution_count": 4,
     "metadata": {},
     "output_type": "execute_result"
    }
   ],
   "source": [
    "#  ESERCIZIO 9\n",
    "\"\"\" Dal dataset di prima:\n",
    "• Leggiamo il file e carichiamolo in un DataFrame, aggiungendo i nomi di \n",
    "colonna — che si trovano nel file .names — come parametro di \n",
    "pd.read_csv()\n",
    "• Stampiamo le prime cinque righe e le ultime dieci\n",
    "• Stampiamo un riepilogo dei descrittori statistici del dataset\"\"\"\n",
    "\n",
    "\n",
    "df=pd.read_csv(r\"C:/Users/VITA MARIA/Desktop/iris.csv\",header=None,names=['sepal length in cm','sepal width in cm',\n",
    "                                                                          'petal length in cm',\n",
    "                                                                          'petal width in cm','class'])\n",
    "\n",
    "#Stampiamo le prime cinque righe\n",
    "df.head()\n",
    "\n",
    "# E le ultime 10\n",
    "df.tail(10)\n",
    "\n",
    "# Stampiamo un riepilogo dei descrittori statistici del dataset\n",
    "df.describe()"
   ]
  },
  {
   "cell_type": "code",
   "execution_count": 7,
   "metadata": {},
   "outputs": [
    {
     "data": {
      "text/html": [
       "<div>\n",
       "<style scoped>\n",
       "    .dataframe tbody tr th:only-of-type {\n",
       "        vertical-align: middle;\n",
       "    }\n",
       "\n",
       "    .dataframe tbody tr th {\n",
       "        vertical-align: top;\n",
       "    }\n",
       "\n",
       "    .dataframe thead th {\n",
       "        text-align: right;\n",
       "    }\n",
       "</style>\n",
       "<table border=\"1\" class=\"dataframe\">\n",
       "  <thead>\n",
       "    <tr style=\"text-align: right;\">\n",
       "      <th></th>\n",
       "      <th>density</th>\n",
       "      <th>pH</th>\n",
       "      <th>sulphates</th>\n",
       "      <th>alcohol</th>\n",
       "      <th>quality</th>\n",
       "    </tr>\n",
       "  </thead>\n",
       "  <tbody>\n",
       "    <tr>\n",
       "      <th>count</th>\n",
       "      <td>6497.000000</td>\n",
       "      <td>6497.000000</td>\n",
       "      <td>6497.000000</td>\n",
       "      <td>6497.000000</td>\n",
       "      <td>6497.000000</td>\n",
       "    </tr>\n",
       "    <tr>\n",
       "      <th>mean</th>\n",
       "      <td>0.994697</td>\n",
       "      <td>3.218501</td>\n",
       "      <td>0.531268</td>\n",
       "      <td>10.491801</td>\n",
       "      <td>5.818378</td>\n",
       "    </tr>\n",
       "    <tr>\n",
       "      <th>std</th>\n",
       "      <td>0.002999</td>\n",
       "      <td>0.160787</td>\n",
       "      <td>0.148806</td>\n",
       "      <td>1.192712</td>\n",
       "      <td>0.873255</td>\n",
       "    </tr>\n",
       "    <tr>\n",
       "      <th>min</th>\n",
       "      <td>0.987110</td>\n",
       "      <td>2.720000</td>\n",
       "      <td>0.220000</td>\n",
       "      <td>8.000000</td>\n",
       "      <td>3.000000</td>\n",
       "    </tr>\n",
       "    <tr>\n",
       "      <th>25%</th>\n",
       "      <td>0.992340</td>\n",
       "      <td>3.110000</td>\n",
       "      <td>0.430000</td>\n",
       "      <td>9.500000</td>\n",
       "      <td>5.000000</td>\n",
       "    </tr>\n",
       "    <tr>\n",
       "      <th>50%</th>\n",
       "      <td>0.994890</td>\n",
       "      <td>3.210000</td>\n",
       "      <td>0.510000</td>\n",
       "      <td>10.300000</td>\n",
       "      <td>6.000000</td>\n",
       "    </tr>\n",
       "    <tr>\n",
       "      <th>75%</th>\n",
       "      <td>0.996990</td>\n",
       "      <td>3.320000</td>\n",
       "      <td>0.600000</td>\n",
       "      <td>11.300000</td>\n",
       "      <td>6.000000</td>\n",
       "    </tr>\n",
       "    <tr>\n",
       "      <th>max</th>\n",
       "      <td>1.038980</td>\n",
       "      <td>4.010000</td>\n",
       "      <td>2.000000</td>\n",
       "      <td>14.900000</td>\n",
       "      <td>9.000000</td>\n",
       "    </tr>\n",
       "  </tbody>\n",
       "</table>\n",
       "</div>"
      ],
      "text/plain": [
       "           density           pH    sulphates      alcohol      quality\n",
       "count  6497.000000  6497.000000  6497.000000  6497.000000  6497.000000\n",
       "mean      0.994697     3.218501     0.531268    10.491801     5.818378\n",
       "std       0.002999     0.160787     0.148806     1.192712     0.873255\n",
       "min       0.987110     2.720000     0.220000     8.000000     3.000000\n",
       "25%       0.992340     3.110000     0.430000     9.500000     5.000000\n",
       "50%       0.994890     3.210000     0.510000    10.300000     6.000000\n",
       "75%       0.996990     3.320000     0.600000    11.300000     6.000000\n",
       "max       1.038980     4.010000     2.000000    14.900000     9.000000"
      ]
     },
     "execution_count": 7,
     "metadata": {},
     "output_type": "execute_result"
    }
   ],
   "source": [
    "# ESERCIZIO 10\n",
    "\"\"\" Andiamo a questo link e scarichiamo una serie di dataset: \n",
    "https://www.kaggle.com/datasets/ahmettezcantekin/beginner-datasets\n",
    "Tra i vari dataset presenti, ce n'è uno che contiene diverse qualità di vini e le \n",
    "misure di diverse proprietà organolettiche, wine.csv;\n",
    "Leggiamo quindi il dataset wine.csv, e visualizziamone le prime e le ultime \n",
    "righe;\n",
    "Leggiamo nuovamente il dataset, ma stavolta considerando soltanto le ultime 6 \n",
    "colonne, ricordandoci che in totale il dataset ha 13 colonne;\n",
    "Visualizziamo un resoconto dei descrittori statistici di questa versione.\"\"\"\n",
    "\n",
    "import pandas as pd\n",
    "wine = pd.read_csv(\"C:/Users/VITA MARIA/Desktop/wine.csv\")\n",
    "wine\n",
    "\n",
    "# Leggiamo nuovamente il dataset ma stavolta considerando solo le ultime 6 colonne ricordandoci \n",
    "# che in totale il dataset ha 13 colonne\n",
    "wine = pd.read_csv(\"C:/Users/VITA MARIA/Desktop/wine.csv\",usecols=[x for x in range(7,13,1)])\n",
    "wine\n",
    "\n",
    "# Visualizziamo un resoconto dei descrittori statistici di questa versione\n",
    "wine.describe()"
   ]
  },
  {
   "cell_type": "code",
   "execution_count": 8,
   "metadata": {},
   "outputs": [
    {
     "data": {
      "text/plain": [
       "array([[ 1,  1,  1,  1,  5,  1,  1,  1, 20, -4,  0, 42]])"
      ]
     },
     "execution_count": 8,
     "metadata": {},
     "output_type": "execute_result"
    }
   ],
   "source": [
    "# ESERCIZIO 11. Abbiamo la seguente matrice. Creiamo un ndarray con gli stessi valori\n",
    "import numpy as np\n",
    "arr_matrix = np.matrix([(1,1,1,1),\n",
    "                        (5,1,1,1),\n",
    "                        (20,-4,0,42)])\n",
    "arr_ = np.array([el for el in arr_matrix])\n",
    "arr_ = np.ndarray.reshape(arr_,(1,12))\n",
    "arr_"
   ]
  }
 ],
 "metadata": {
  "kernelspec": {
   "display_name": "Python 3",
   "language": "python",
   "name": "python3"
  },
  "language_info": {
   "codemirror_mode": {
    "name": "ipython",
    "version": 3
   },
   "file_extension": ".py",
   "mimetype": "text/x-python",
   "name": "python",
   "nbconvert_exporter": "python",
   "pygments_lexer": "ipython3",
   "version": "3.11.5"
  },
  "orig_nbformat": 4
 },
 "nbformat": 4,
 "nbformat_minor": 2
}
